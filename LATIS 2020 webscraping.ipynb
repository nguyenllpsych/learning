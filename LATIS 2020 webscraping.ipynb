{
 "cells": [
  {
   "cell_type": "markdown",
   "metadata": {},
   "source": [
    "### Importing library for webscraping"
   ]
  },
  {
   "cell_type": "code",
   "execution_count": 10,
   "metadata": {},
   "outputs": [],
   "source": [
    "import requests #package to request data from web server\n",
    "\n",
    "from bs4 import BeautifulSoup #package for web scraping; can also use \"scrapy\""
   ]
  },
  {
   "cell_type": "markdown",
   "metadata": {},
   "source": [
    "### Start web scraping"
   ]
  },
  {
   "cell_type": "markdown",
   "metadata": {},
   "source": [
    "Can check \"Terms of Use\" on websites for ethics and legal concerns. Can also double check with LATIS."
   ]
  },
  {
   "cell_type": "code",
   "execution_count": 11,
   "metadata": {},
   "outputs": [
    {
     "data": {
      "text/plain": [
       "<Response [200]>"
      ]
     },
     "execution_count": 11,
     "metadata": {},
     "output_type": "execute_result"
    }
   ],
   "source": [
    "requests.get('http://www.startribune.com') #get function from requests\n",
    "#2xx -> request was successfully received (Wikipedia list of HTTP status code)"
   ]
  },
  {
   "cell_type": "code",
   "execution_count": 12,
   "metadata": {},
   "outputs": [
    {
     "data": {
      "text/plain": [
       "\u001b[0;31mSignature:\u001b[0m \u001b[0mrequests\u001b[0m\u001b[0;34m.\u001b[0m\u001b[0mget\u001b[0m\u001b[0;34m(\u001b[0m\u001b[0murl\u001b[0m\u001b[0;34m,\u001b[0m \u001b[0mparams\u001b[0m\u001b[0;34m=\u001b[0m\u001b[0;32mNone\u001b[0m\u001b[0;34m,\u001b[0m \u001b[0;34m**\u001b[0m\u001b[0mkwargs\u001b[0m\u001b[0;34m)\u001b[0m\u001b[0;34m\u001b[0m\u001b[0;34m\u001b[0m\u001b[0m\n",
       "\u001b[0;31mDocstring:\u001b[0m\n",
       "Sends a GET request.\n",
       "\n",
       ":param url: URL for the new :class:`Request` object.\n",
       ":param params: (optional) Dictionary, list of tuples or bytes to send\n",
       "    in the query string for the :class:`Request`.\n",
       ":param \\*\\*kwargs: Optional arguments that ``request`` takes.\n",
       ":return: :class:`Response <Response>` object\n",
       ":rtype: requests.Response\n",
       "\u001b[0;31mFile:\u001b[0m      /opt/conda/lib/python3.8/site-packages/requests/api.py\n",
       "\u001b[0;31mType:\u001b[0m      function\n"
      ]
     },
     "metadata": {},
     "output_type": "display_data"
    }
   ],
   "source": [
    "requests.get? #get documentation - help page"
   ]
  },
  {
   "cell_type": "code",
   "execution_count": 15,
   "metadata": {},
   "outputs": [],
   "source": [
    "headers = {'user-agent':'nguy4006@umn.edu, Linh Nguyen'} #dict for identification\n",
    "star_trib = requests.get('http://www.startribune.com', headers = headers)"
   ]
  },
  {
   "cell_type": "code",
   "execution_count": 16,
   "metadata": {},
   "outputs": [],
   "source": [
    "src = star_trib.text #source"
   ]
  },
  {
   "cell_type": "code",
   "execution_count": 23,
   "metadata": {},
   "outputs": [
    {
     "name": "stdout",
     "output_type": "stream",
     "text": [
      "<!DOCTYPE html>\n",
      "<!--[if IE 8 ]>    <html dir=\"ltr\" lang=\"en-US\" class=\"no-js ie8 oldie\"> <![endif]-->\n",
      "<!--[if IE 9]><html lang=\"en\" class=\"ie ie9\"><![endif]-->\n",
      "<head>\n",
      " <meta charset=\"utf-8\"/>\n",
      " <meta content=\"IE=edge\" http-equiv=\"X-UA-Compatible\"/>\n",
      " <script async=\"\" src=\"//securepubads.g.doubleclick.net/tag/js/gpt.js\">\n",
      " </script>\n",
      " <script async=\"\" src=\"//c.amazon-adsystem.com/aax2/apstag.js\">\n",
      " </script>\n",
      " <script src=\"https://assets.startribune.com/static/vendor/jquery/dist/jquery.min.js?d=1604505416\" type=\"text/javascript\">\n",
      " </script>\n",
      " <script crossorigin=\"anonymous\" integrity=\"sha256-xI/qyl9vpwWFOXz7+x/9WkG5j/SVnSw21viy8fWwbeE=\" src=\"https://code.jquery.com/ui/1.11.3/jquery-ui.min.js\">\n",
      " </script>\n",
      " <meta content=\"prod\" name=\"app-env\"/>\n",
      " <meta content=\"desktop\" name=\"app-platform\"/>\n",
      " <meta content=\"V20201104\" name=\"app-revision\"/>\n",
      " <meta content=\"57098e87943fb0b8bcf51a8ffc9ca41a\" name=\"bugsnag-api-key\"/>\n",
      " <meta content='[\"Comments\",\"Ads\",\"WelcomeScreen\",\"Meter\",\"lazy load\",\"Array Cache\",\n"
     ]
    }
   ],
   "source": [
    "soup = BeautifulSoup(src) #lmxl is one option - good for parsing HTML - need to install\n",
    "\n",
    "print(soup.prettify()[:1000]) #first 1000 characters"
   ]
  },
  {
   "cell_type": "code",
   "execution_count": 33,
   "metadata": {},
   "outputs": [],
   "source": [
    "anchors = soup.find_all('a') #find all the anchor tags/elements -> links\n",
    "\n",
    "para = soup.find_all('p') #find all the paragraph tags/elements\n",
    "\n",
    "header1 = soup.find_all('h1')\n",
    "header2 = soup.find_all('h2')\n",
    "header3 = soup.find_all('h3')"
   ]
  },
  {
   "cell_type": "code",
   "execution_count": 37,
   "metadata": {},
   "outputs": [],
   "source": [
    "headline = soup.find_all('a', class_ = 'tease-headline') #don't actuall need '.find_all'"
   ]
  },
  {
   "cell_type": "code",
   "execution_count": 47,
   "metadata": {},
   "outputs": [
    {
     "name": "stdout",
     "output_type": "stream",
     "text": [
      "[<a class=\"feed-list-link\" href=\"https://www.startribune.com/2020-minnesota-election-results-live-president-joe-biden-donald-trump-congress-senate-smith-lewis-house-legislature-votes/572649921/\">\n",
      "                                    Minnesota election results 2020\n",
      "                                </a>, <a class=\"feed-list-link\" href=\"https://www.startribune.com/biden-sees-path-to-270-trump-attacks-election-integrity/572988852/\">\n",
      "                                    Biden on cusp of presidency after gains in Pennsylvania\n",
      "                                </a>, <a class=\"feed-list-link\" href=\"https://www.startribune.com/everson-griffen-mad-about-mike-zimmer-s-words-replies-he-s-going-to-see-sunday-what-he-s-got-coming/572987812/\">\n",
      "                                    Griffen irked by Zimmer's words, responds: 'I got something for him on Sunday'\n",
      "                                </a>, <a class=\"feed-list-link\" href=\"https://www.startribune.com/former-u-s-rep-jim-ramstad-champion-of-mental-health-issues-dies/572988872/\">\n",
      "                                    Former U.S. Rep. Jim Ramstad, champion of mental health issues, dies\n",
      "                                </a>, <a class=\"feed-list-link\" href=\"https://www.startribune.com/macalester-college-president-suzanne-rivera-offering-reimbursement-to-students-fined-for-civil-disobedience/572991132/\">\n",
      "                                    Macalester will reimburse students fined for civil disobedience\n",
      "                                </a>, <a class=\"feed-list-link\" href=\"https://video.startribune.com/scenes-from-wednesday-s-post-election-protest/572982652/\">\n",
      "                                    Scenes from Wednesday's post-Election protest\n",
      "                                </a>, <a class=\"feed-list-link\" href=\"https://video.startribune.com/trump-winning-is-easy-losing-is-never-easy/572961472/\">\n",
      "                                    Trump: 'Winning is easy. Losing is never easy'\n",
      "                                </a>, <a class=\"feed-list-link\" href=\"https://video.startribune.com/scenes-from-post-election-protest-in-minneapolis/572986182/\">\n",
      "                                    Scenes from post-election protest in Minneapolis\n",
      "                                </a>, <a class=\"feed-list-link\" href=\"https://video.startribune.com/how-two-blind-brothers-became-two-blind-brothers-for-a-cause/572983132/\">\n",
      "                                    How two blind brothers became Two Blind Brothers for a cause\n",
      "                                </a>, <a class=\"feed-list-link\" href=\"https://video.startribune.com/biden-tells-supporters-to-keep-the-faith/572968012/\">\n",
      "                                    Biden tells supporters to 'keep the faith'\n",
      "                                </a>, <a class=\"feed-list-link\" data-linkname=\"Sack cartoon: And they're off …\" data-linktype=\"headline\" data-modulename=\"most-shared - n-a\" data-moduletype=\"zone2-most-shared\" data-position=\"3-1\" href=\"https://www.startribune.com/sack-cartoon-and-they-re-off/572981002/\">\n",
      "                    Sack cartoon: And they're off …\n",
      "                </a>, <a class=\"feed-list-link\" data-linkname=\"Macalester will reimburse students fined for civil disobedience\" data-linktype=\"headline\" data-modulename=\"most-shared - n-a\" data-moduletype=\"zone2-most-shared\" data-position=\"3-2\" href=\"https://www.startribune.com/macalester-college-president-suzanne-rivera-offering-reimbursement-to-students-fined-for-civil-disobedience/572991132/\">\n",
      "                    Macalester will reimburse students fined for civil disobedience\n",
      "                </a>, <a class=\"feed-list-link\" data-linkname=\"Judge: UnitedHealth must redo 67K claims denied under 'overly restrictive guidelines'\" data-linktype=\"headline\" data-modulename=\"most-shared - n-a\" data-moduletype=\"zone2-most-shared\" data-position=\"3-3\" href=\"https://www.startribune.com/judge-unitedhealth-must-redo-67k-claims-denied-under-overly-restrictive-guidelines/572972952/\">\n",
      "                    Judge: UnitedHealth must redo 67K claims denied under 'overly restrictive guidelines'\n",
      "                </a>, <a class=\"feed-list-link\" data-linkname=\"More than 600 arrested during anti-Trump protest that blocked I-94 in Minneapolis\" data-linktype=\"headline\" data-modulename=\"most-shared - n-a\" data-moduletype=\"zone2-most-shared\" data-position=\"3-4\" href=\"https://www.startribune.com/more-than-600-arrested-during-anti-trump-protest-that-blocked-i-94-in-minneapolis/572980392/\">\n",
      "                    More than 600 arrested during anti-Trump protest that blocked I-94 in Minneapolis\n",
      "                </a>, <a class=\"feed-list-link\" data-linkname=\"Hwy. 5 near MSP airport, key ramp on I-35W in Minneapolis to open Friday\" data-linktype=\"headline\" data-modulename=\"most-shared - n-a\" data-moduletype=\"zone2-most-shared\" data-position=\"3-5\" href=\"https://www.startribune.com/hwy-5-near-msp-airport-key-ramp-on-i-35w-in-minneapolis-to-open-friday/572984362/\">\n",
      "                    Hwy. 5 near MSP airport, key ramp on I-35W in Minneapolis to open Friday\n",
      "                </a>]\n"
     ]
    }
   ],
   "source": [
    "most_read = soup('a', class_ = 'feed-list-link') #find most read article links in list form\n",
    "\n",
    "most_read_select = soup.select('a.feed-list-link') #short hand way -- exact same results\n",
    "\n",
    "print(most_read_select)"
   ]
  },
  {
   "cell_type": "markdown",
   "metadata": {},
   "source": [
    "### Parsing found list"
   ]
  },
  {
   "cell_type": "code",
   "execution_count": 56,
   "metadata": {},
   "outputs": [
    {
     "data": {
      "text/plain": [
       "'https://www.startribune.com/2020-minnesota-election-results-live-president-joe-biden-donald-trump-congress-senate-smith-lewis-house-legislature-votes/572649921/'"
      ]
     },
     "execution_count": 56,
     "metadata": {},
     "output_type": "execute_result"
    }
   ],
   "source": [
    "len(most_read_select) #15 items in total\n",
    "\n",
    "first_link = most_read_select[0] #zero index\n",
    "type(first_link)\n",
    "first_link.text #grab the text (headline)\n",
    "first_link['href'] #grab the link"
   ]
  },
  {
   "cell_type": "code",
   "execution_count": 60,
   "metadata": {},
   "outputs": [
    {
     "name": "stdout",
     "output_type": "stream",
     "text": [
      "Minnesota election results 2020 \n",
      " https://www.startribune.com/2020-minnesota-election-results-live-president-joe-biden-donald-trump-congress-senate-smith-lewis-house-legislature-votes/572649921/ \n",
      "\n",
      "Biden on cusp of presidency after gains in Pennsylvania \n",
      " https://www.startribune.com/biden-sees-path-to-270-trump-attacks-election-integrity/572988852/ \n",
      "\n",
      "Griffen irked by Zimmer's words, responds: 'I got something for him on Sunday' \n",
      " https://www.startribune.com/everson-griffen-mad-about-mike-zimmer-s-words-replies-he-s-going-to-see-sunday-what-he-s-got-coming/572987812/ \n",
      "\n",
      "Former U.S. Rep. Jim Ramstad, champion of mental health issues, dies \n",
      " https://www.startribune.com/former-u-s-rep-jim-ramstad-champion-of-mental-health-issues-dies/572988872/ \n",
      "\n",
      "Macalester will reimburse students fined for civil disobedience \n",
      " https://www.startribune.com/macalester-college-president-suzanne-rivera-offering-reimbursement-to-students-fined-for-civil-disobedience/572991132/ \n",
      "\n",
      "Scenes from Wednesday's post-Election protest \n",
      " https://video.startribune.com/scenes-from-wednesday-s-post-election-protest/572982652/ \n",
      "\n",
      "Trump: 'Winning is easy. Losing is never easy' \n",
      " https://video.startribune.com/trump-winning-is-easy-losing-is-never-easy/572961472/ \n",
      "\n",
      "Scenes from post-election protest in Minneapolis \n",
      " https://video.startribune.com/scenes-from-post-election-protest-in-minneapolis/572986182/ \n",
      "\n",
      "How two blind brothers became Two Blind Brothers for a cause \n",
      " https://video.startribune.com/how-two-blind-brothers-became-two-blind-brothers-for-a-cause/572983132/ \n",
      "\n",
      "Biden tells supporters to 'keep the faith' \n",
      " https://video.startribune.com/biden-tells-supporters-to-keep-the-faith/572968012/ \n",
      "\n",
      "Sack cartoon: And they're off … \n",
      " https://www.startribune.com/sack-cartoon-and-they-re-off/572981002/ \n",
      "\n",
      "Macalester will reimburse students fined for civil disobedience \n",
      " https://www.startribune.com/macalester-college-president-suzanne-rivera-offering-reimbursement-to-students-fined-for-civil-disobedience/572991132/ \n",
      "\n",
      "Judge: UnitedHealth must redo 67K claims denied under 'overly restrictive guidelines' \n",
      " https://www.startribune.com/judge-unitedhealth-must-redo-67k-claims-denied-under-overly-restrictive-guidelines/572972952/ \n",
      "\n",
      "More than 600 arrested during anti-Trump protest that blocked I-94 in Minneapolis \n",
      " https://www.startribune.com/more-than-600-arrested-during-anti-trump-protest-that-blocked-i-94-in-minneapolis/572980392/ \n",
      "\n",
      "Hwy. 5 near MSP airport, key ramp on I-35W in Minneapolis to open Friday \n",
      " https://www.startribune.com/hwy-5-near-msp-airport-key-ramp-on-i-35w-in-minneapolis-to-open-friday/572984362/ \n",
      "\n"
     ]
    }
   ],
   "source": [
    "for link in most_read_select:\n",
    "    print(link.text.strip(), '\\n', link['href'], '\\n')"
   ]
  },
  {
   "cell_type": "code",
   "execution_count": 63,
   "metadata": {},
   "outputs": [
    {
     "name": "stdout",
     "output_type": "stream",
     "text": [
      "['https://www.startribune.com/2020-minnesota-election-results-live-president-joe-biden-donald-trump-congress-senate-smith-lewis-house-legislature-votes/572649921/', 'https://www.startribune.com/biden-sees-path-to-270-trump-attacks-election-integrity/572988852/', 'https://www.startribune.com/everson-griffen-mad-about-mike-zimmer-s-words-replies-he-s-going-to-see-sunday-what-he-s-got-coming/572987812/', 'https://www.startribune.com/former-u-s-rep-jim-ramstad-champion-of-mental-health-issues-dies/572988872/', 'https://www.startribune.com/macalester-college-president-suzanne-rivera-offering-reimbursement-to-students-fined-for-civil-disobedience/572991132/', 'https://video.startribune.com/scenes-from-wednesday-s-post-election-protest/572982652/', 'https://video.startribune.com/trump-winning-is-easy-losing-is-never-easy/572961472/', 'https://video.startribune.com/scenes-from-post-election-protest-in-minneapolis/572986182/', 'https://video.startribune.com/how-two-blind-brothers-became-two-blind-brothers-for-a-cause/572983132/', 'https://video.startribune.com/biden-tells-supporters-to-keep-the-faith/572968012/', 'https://www.startribune.com/sack-cartoon-and-they-re-off/572981002/', 'https://www.startribune.com/macalester-college-president-suzanne-rivera-offering-reimbursement-to-students-fined-for-civil-disobedience/572991132/', 'https://www.startribune.com/judge-unitedhealth-must-redo-67k-claims-denied-under-overly-restrictive-guidelines/572972952/', 'https://www.startribune.com/more-than-600-arrested-during-anti-trump-protest-that-blocked-i-94-in-minneapolis/572980392/', 'https://www.startribune.com/hwy-5-near-msp-airport-key-ramp-on-i-35w-in-minneapolis-to-open-friday/572984362/']\n"
     ]
    }
   ],
   "source": [
    "most_read_urls = []\n",
    "\n",
    "for link in most_read_select:\n",
    "    most_read_urls.append(link['href'])\n",
    "    \n",
    "print(most_read_urls)"
   ]
  },
  {
   "cell_type": "markdown",
   "metadata": {},
   "source": [
    "### Pulling from first article"
   ]
  },
  {
   "cell_type": "code",
   "execution_count": 69,
   "metadata": {},
   "outputs": [],
   "source": [
    "page = requests.get(most_read_urls[0], headers = headers) #actual page from the headline\n",
    "\n",
    "src = page.text #entire html"
   ]
  },
  {
   "cell_type": "code",
   "execution_count": 72,
   "metadata": {},
   "outputs": [
    {
     "data": {
      "text/plain": [
       "[<p class=\"photo-caption\">A mother fox waited patiently as her three little kits spent time playing with each other and feeding.</p>,\n",
       " <p class=\"photo-credit\">Photo: Jerry Holt/Star Tribune</p>,\n",
       " <p class=\"link-text\">BUY</p>,\n",
       " <p class=\"link-text\">SHARE</p>,\n",
       " <p class=\"link-text\">ABOUT</p>,\n",
       " <p>As ballots continue to be counted and reported around the nation, two things are clear: the races are close, and turnout is high. Most major races in Minnesota, from the presidential race to congressional seats, have been called, but several -- including in the Legislature -- are still a waiting game.</p>,\n",
       " <p>Live results will continue to come in as local elections officials continue tallying results. Ballots here and many other states can still be received after Election Day, although a possible court battle over Minnesota law is looming over whether they will be counted. Remember, a race can show “100% of precincts reporting” and have votes yet to arrive.</p>,\n",
       " <p>Incumbents marked with *</p>,\n",
       " <p>Winner calls made by the Associated Press</p>,\n",
       " <p class=\"footer-copyright\">© 2020 StarTribune. All rights reserved.</p>]"
      ]
     },
     "execution_count": 72,
     "metadata": {},
     "output_type": "execute_result"
    }
   ],
   "source": [
    "page_soup = BeautifulSoup(src)\n",
    "\n",
    "article_text = page_soup.find_all('p') #all paragraphs\n",
    "print(article_text)"
   ]
  },
  {
   "cell_type": "code",
   "execution_count": 76,
   "metadata": {},
   "outputs": [
    {
     "data": {
      "text/plain": [
       "bs4.element.ResultSet"
      ]
     },
     "execution_count": 76,
     "metadata": {},
     "output_type": "execute_result"
    }
   ],
   "source": [
    "type(article_text)"
   ]
  },
  {
   "cell_type": "code",
   "execution_count": 81,
   "metadata": {},
   "outputs": [
    {
     "name": "stdout",
     "output_type": "stream",
     "text": [
      "['A mother fox waited patiently as her three little kits spent time playing with each other and feeding.', 'Photo: Jerry Holt/Star Tribune', 'BUY', 'SHARE', 'ABOUT', 'As ballots continue to be counted and reported around the nation, two things are clear: the races are close, and turnout is high. Most major races in Minnesota, from the presidential race to congressional seats, have been called, but several -- including in the Legislature -- are still a waiting game.', 'Live results will continue to come in as local elections officials continue tallying results. Ballots here and many other states can still be received after Election Day, although a possible court battle over Minnesota law is looming over whether they will be counted. Remember, a race can show “100% of precincts reporting” and have votes yet to arrive.', 'Incumbents marked with *', 'Winner calls made by the Associated Press', '© 2020 StarTribune. All rights reserved.']\n"
     ]
    }
   ],
   "source": [
    "raw_text = []\n",
    "for paragraph in article_text:\n",
    "    raw_text.append(paragraph.text)\n",
    "    \n",
    "print(raw_text)"
   ]
  },
  {
   "cell_type": "markdown",
   "metadata": {},
   "source": [
    "### Pulling from second article"
   ]
  },
  {
   "cell_type": "code",
   "execution_count": 83,
   "metadata": {},
   "outputs": [],
   "source": [
    "page2 = requests.get(most_read_urls[1], headers = headers) #actual page from the headline\n",
    "\n",
    "src2 = page2.text \n",
    "\n",
    "page_soup2 = BeautifulSoup(src2)\n",
    "\n",
    "para2 = page_soup2.find_all('p')"
   ]
  },
  {
   "cell_type": "markdown",
   "metadata": {},
   "source": [
    "### Challenge no.3"
   ]
  },
  {
   "cell_type": "code",
   "execution_count": 89,
   "metadata": {},
   "outputs": [
    {
     "name": "stdout",
     "output_type": "stream",
     "text": [
      "Everson Griffen irked by Mike Zimmer's words, responds: 'I got something for him on Sunday'\n"
     ]
    }
   ],
   "source": [
    "page3 = requests.get(most_read_urls[2], headers = headers) #actual page from the headline\n",
    "\n",
    "src3 = page3.text \n",
    "\n",
    "page_soup3 = BeautifulSoup(src3)\n",
    "\n",
    "headline = page_soup3.find_all('h1')\n",
    "\n",
    "print(headline[0].text)"
   ]
  },
  {
   "cell_type": "code",
   "execution_count": 96,
   "metadata": {},
   "outputs": [
    {
     "name": "stdout",
     "output_type": "stream",
     "text": [
      "[]\n"
     ]
    }
   ],
   "source": [
    "byline = ____________\n",
    "print(byline[0].___________)"
   ]
  },
  {
   "cell_type": "code",
   "execution_count": null,
   "metadata": {},
   "outputs": [],
   "source": [
    "date = _____________\n",
    "print(date[0].____________)"
   ]
  },
  {
   "cell_type": "markdown",
   "metadata": {},
   "source": [
    "### Generalize and summary"
   ]
  },
  {
   "cell_type": "code",
   "execution_count": 97,
   "metadata": {},
   "outputs": [],
   "source": [
    "import time #track how much time things are taking\n",
    "\n",
    "def scrape_strib(url_list):\n",
    "    results_list = []\n",
    "    \n",
    "    for url in url_list:\n",
    "        print('Scraping: ', url)\n",
    "        time.sleep(5) #wait for 5 seconds between each URL -> prevent overload (to be nice)\n",
    "        \n",
    "        \n",
    "        page = requests.get(url)\n",
    "        src = page.text\n",
    "        page_soup = BeautifulSoup(src)\n",
    "        \n",
    "        \n",
    "        article_text = page_soup.select('p')\n",
    "        article_string = ''.join(paragraph.text.strip() for paragraph in article_text)\n",
    "        \n",
    "        \n",
    "        headline = page_soup.h1\n",
    "        if headline is not None:\n",
    "            headline = headline.text.strip()\n",
    "        else: \n",
    "            headline = ''\n",
    "            \n",
    "            \n",
    "        byline = page_soup.select('div.article-byline')\n",
    "        if len(byline) > 0:\n",
    "            if byline[0].a is not None:\n",
    "                byline = byline[0].a.text\n",
    "            else: \n",
    "                byline = ''\n",
    "        else:\n",
    "            byline = ''\n",
    "            \n",
    "            \n",
    "        article_tuple = (url, headline, byline, article_string)\n",
    "        results_list.append(article_tuple)\n",
    "    \n",
    "    \n",
    "    return results_list"
   ]
  },
  {
   "cell_type": "code",
   "execution_count": 98,
   "metadata": {},
   "outputs": [
    {
     "name": "stdout",
     "output_type": "stream",
     "text": [
      "Scraping:  https://www.startribune.com/2020-minnesota-election-results-live-president-joe-biden-donald-trump-congress-senate-smith-lewis-house-legislature-votes/572649921/\n",
      "Scraping:  https://www.startribune.com/biden-sees-path-to-270-trump-attacks-election-integrity/572988852/\n",
      "Scraping:  https://www.startribune.com/everson-griffen-mad-about-mike-zimmer-s-words-replies-he-s-going-to-see-sunday-what-he-s-got-coming/572987812/\n",
      "Scraping:  https://www.startribune.com/former-u-s-rep-jim-ramstad-champion-of-mental-health-issues-dies/572988872/\n",
      "Scraping:  https://www.startribune.com/macalester-college-president-suzanne-rivera-offering-reimbursement-to-students-fined-for-civil-disobedience/572991132/\n",
      "Scraping:  https://video.startribune.com/scenes-from-wednesday-s-post-election-protest/572982652/\n",
      "Scraping:  https://video.startribune.com/trump-winning-is-easy-losing-is-never-easy/572961472/\n",
      "Scraping:  https://video.startribune.com/scenes-from-post-election-protest-in-minneapolis/572986182/\n",
      "Scraping:  https://video.startribune.com/how-two-blind-brothers-became-two-blind-brothers-for-a-cause/572983132/\n",
      "Scraping:  https://video.startribune.com/biden-tells-supporters-to-keep-the-faith/572968012/\n",
      "Scraping:  https://www.startribune.com/sack-cartoon-and-they-re-off/572981002/\n",
      "Scraping:  https://www.startribune.com/macalester-college-president-suzanne-rivera-offering-reimbursement-to-students-fined-for-civil-disobedience/572991132/\n",
      "Scraping:  https://www.startribune.com/judge-unitedhealth-must-redo-67k-claims-denied-under-overly-restrictive-guidelines/572972952/\n",
      "Scraping:  https://www.startribune.com/more-than-600-arrested-during-anti-trump-protest-that-blocked-i-94-in-minneapolis/572980392/\n",
      "Scraping:  https://www.startribune.com/hwy-5-near-msp-airport-key-ramp-on-i-35w-in-minneapolis-to-open-friday/572984362/\n"
     ]
    }
   ],
   "source": [
    "scraped_articles = scrape_strib(most_read_urls)"
   ]
  },
  {
   "cell_type": "code",
   "execution_count": 100,
   "metadata": {},
   "outputs": [
    {
     "name": "stdout",
     "output_type": "stream",
     "text": [
      "('https://www.startribune.com/2020-minnesota-election-results-live-president-joe-biden-donald-trump-congress-senate-smith-lewis-house-legislature-votes/572649921/', 'Minnesota election results 2020', '', 'A mother fox waited patiently as her three little kits spent time playing with each other and feeding.Photo: Jerry Holt/Star TribuneBUYSHAREABOUTAs ballots continue to be counted and reported around the nation, two things are clear: the races are close, and turnout is high. Most major races in Minnesota, from the presidential race to congressional seats, have been called, but several -- including in the Legislature -- are still a waiting game.Live results will continue to come in as local elections officials continue tallying results. Ballots here and many other states can still be received after Election Day, although a possible court battle over Minnesota law is looming over whether they will be counted. Remember, a race can show “100% of precincts reporting” and have votes yet to arrive.Incumbents marked with *Winner calls made by the Associated Press© 2020 StarTribune. All rights reserved.')\n"
     ]
    }
   ],
   "source": [
    "print(scraped_articles[0])"
   ]
  },
  {
   "cell_type": "markdown",
   "metadata": {},
   "source": [
    "##### Create a dataframe"
   ]
  },
  {
   "cell_type": "code",
   "execution_count": 101,
   "metadata": {},
   "outputs": [
    {
     "data": {
      "text/html": [
       "<div>\n",
       "<style scoped>\n",
       "    .dataframe tbody tr th:only-of-type {\n",
       "        vertical-align: middle;\n",
       "    }\n",
       "\n",
       "    .dataframe tbody tr th {\n",
       "        vertical-align: top;\n",
       "    }\n",
       "\n",
       "    .dataframe thead th {\n",
       "        text-align: right;\n",
       "    }\n",
       "</style>\n",
       "<table border=\"1\" class=\"dataframe\">\n",
       "  <thead>\n",
       "    <tr style=\"text-align: right;\">\n",
       "      <th></th>\n",
       "      <th>url</th>\n",
       "      <th>title</th>\n",
       "      <th>byline</th>\n",
       "      <th>text</th>\n",
       "    </tr>\n",
       "  </thead>\n",
       "  <tbody>\n",
       "    <tr>\n",
       "      <th>0</th>\n",
       "      <td>https://www.startribune.com/2020-minnesota-ele...</td>\n",
       "      <td>Minnesota election results 2020</td>\n",
       "      <td></td>\n",
       "      <td>A mother fox waited patiently as her three lit...</td>\n",
       "    </tr>\n",
       "    <tr>\n",
       "      <th>1</th>\n",
       "      <td>https://www.startribune.com/biden-sees-path-to...</td>\n",
       "      <td>Biden on cusp of presidency after gains in Pen...</td>\n",
       "      <td></td>\n",
       "      <td>A mother fox waited patiently as her three lit...</td>\n",
       "    </tr>\n",
       "    <tr>\n",
       "      <th>2</th>\n",
       "      <td>https://www.startribune.com/everson-griffen-ma...</td>\n",
       "      <td>Everson Griffen irked by Mike Zimmer's words, ...</td>\n",
       "      <td>Andrew Krammer</td>\n",
       "      <td>A mother fox waited patiently as her three lit...</td>\n",
       "    </tr>\n",
       "    <tr>\n",
       "      <th>3</th>\n",
       "      <td>https://www.startribune.com/former-u-s-rep-jim...</td>\n",
       "      <td>Former U.S. Rep. Jim Ramstad, champion of ment...</td>\n",
       "      <td>Patrick Condon</td>\n",
       "      <td>A mother fox waited patiently as her three lit...</td>\n",
       "    </tr>\n",
       "    <tr>\n",
       "      <th>4</th>\n",
       "      <td>https://www.startribune.com/macalester-college...</td>\n",
       "      <td>Macalester College President Suzanne Rivera of...</td>\n",
       "      <td>Tim Harlow</td>\n",
       "      <td>A mother fox waited patiently as her three lit...</td>\n",
       "    </tr>\n",
       "  </tbody>\n",
       "</table>\n",
       "</div>"
      ],
      "text/plain": [
       "                                                 url  \\\n",
       "0  https://www.startribune.com/2020-minnesota-ele...   \n",
       "1  https://www.startribune.com/biden-sees-path-to...   \n",
       "2  https://www.startribune.com/everson-griffen-ma...   \n",
       "3  https://www.startribune.com/former-u-s-rep-jim...   \n",
       "4  https://www.startribune.com/macalester-college...   \n",
       "\n",
       "                                               title          byline  \\\n",
       "0                    Minnesota election results 2020                   \n",
       "1  Biden on cusp of presidency after gains in Pen...                   \n",
       "2  Everson Griffen irked by Mike Zimmer's words, ...  Andrew Krammer   \n",
       "3  Former U.S. Rep. Jim Ramstad, champion of ment...  Patrick Condon   \n",
       "4  Macalester College President Suzanne Rivera of...      Tim Harlow   \n",
       "\n",
       "                                                text  \n",
       "0  A mother fox waited patiently as her three lit...  \n",
       "1  A mother fox waited patiently as her three lit...  \n",
       "2  A mother fox waited patiently as her three lit...  \n",
       "3  A mother fox waited patiently as her three lit...  \n",
       "4  A mother fox waited patiently as her three lit...  "
      ]
     },
     "execution_count": 101,
     "metadata": {},
     "output_type": "execute_result"
    }
   ],
   "source": [
    "import pandas as pd\n",
    "\n",
    "#take tuple -> create spreadsheet\n",
    "df = pd.DataFrame(scraped_articles, columns = ['url', 'title', 'byline', 'text']) \n",
    "\n",
    "df.head()"
   ]
  },
  {
   "cell_type": "code",
   "execution_count": 102,
   "metadata": {},
   "outputs": [],
   "source": [
    "df.to_csv('scraped_articles.csv')"
   ]
  }
 ],
 "metadata": {
  "kernelspec": {
   "display_name": "Python 3",
   "language": "python",
   "name": "python3"
  },
  "language_info": {
   "codemirror_mode": {
    "name": "ipython",
    "version": 3
   },
   "file_extension": ".py",
   "mimetype": "text/x-python",
   "name": "python",
   "nbconvert_exporter": "python",
   "pygments_lexer": "ipython3",
   "version": "3.8.5"
  }
 },
 "nbformat": 4,
 "nbformat_minor": 4
}
